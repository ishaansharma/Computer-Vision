{
 "cells": [
  {
   "cell_type": "code",
   "execution_count": 6,
   "metadata": {},
   "outputs": [],
   "source": [
    "import cv2 \n",
    "\n",
    "# loads and read an image from path to file\n",
    "img =  cv2.imread('pics/monalisa.jpg')\n",
    "\n",
    "# convert the color to hls \n",
    "hls = cv2.cvtColor(img, cv2.COLOR_BGR2HLS)\n",
    "\n",
    "# displays previous image \n",
    "cv2.imshow(\"Image\",hls)\n",
    "\n",
    "# keeps the window open untill a key is pressed\n",
    "cv2.waitKey(0)\n",
    "\n",
    "# clears all window buffers\n",
    "cv2.destroyAllWindows()"
   ]
  },
  {
   "cell_type": "code",
   "execution_count": null,
   "metadata": {
    "collapsed": true
   },
   "outputs": [],
   "source": []
  }
 ],
 "metadata": {
  "kernelspec": {
   "display_name": "Python 3",
   "language": "python",
   "name": "python3"
  },
  "language_info": {
   "codemirror_mode": {
    "name": "ipython",
    "version": 3
   },
   "file_extension": ".py",
   "mimetype": "text/x-python",
   "name": "python",
   "nbconvert_exporter": "python",
   "pygments_lexer": "ipython3",
   "version": "3.6.3"
  }
 },
 "nbformat": 4,
 "nbformat_minor": 2
}
