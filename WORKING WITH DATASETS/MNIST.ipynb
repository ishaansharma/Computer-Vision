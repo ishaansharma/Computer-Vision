{
 "cells": [
  {
   "cell_type": "code",
   "execution_count": null,
   "metadata": {},
   "outputs": [],
   "source": [
    "from __future__ import print_function\n",
    "\n",
    "from keras.datasets import mnist\n",
    "import matplotlib.pyplot as plt \n",
    "\n",
    "# Download and load dataset \n",
    "(x_train, y_train), (x_test, y_test) = mnist.load_data()\n",
    "# to know the size of data\n",
    "print(\"Train data shape:\", x_train.shape, \"Test data shape:\", x_test.shape)\n",
    "\n",
    "# plot sample image\n",
    "idx = 0\n",
    "print(\"Label:\",y_train[idx])\n",
    "plt.imshow(x_train[idx], cmap='gray')\n",
    "plt.axis('off')\n",
    "plt.show()"
   ]
  },
  {
   "cell_type": "code",
   "execution_count": null,
   "metadata": {
    "collapsed": true
   },
   "outputs": [],
   "source": []
  }
 ],
 "metadata": {
  "kernelspec": {
   "display_name": "Python 3",
   "language": "python",
   "name": "python3"
  },
  "language_info": {
   "codemirror_mode": {
    "name": "ipython",
    "version": 3
   },
   "file_extension": ".py",
   "mimetype": "text/x-python",
   "name": "python",
   "nbconvert_exporter": "python",
   "pygments_lexer": "ipython3",
   "version": "3.6.3"
  }
 },
 "nbformat": 4,
 "nbformat_minor": 2
}
