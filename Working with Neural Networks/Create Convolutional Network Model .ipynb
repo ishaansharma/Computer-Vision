{
 "cells": [
  {
   "cell_type": "code",
   "execution_count": 1,
   "metadata": {},
   "outputs": [
    {
     "name": "stderr",
     "output_type": "stream",
     "text": [
      "Using TensorFlow backend.\n"
     ]
    },
    {
     "name": "stdout",
     "output_type": "stream",
     "text": [
      "_________________________________________________________________\n",
      "Layer (type)                 Output Shape              Param #   \n",
      "=================================================================\n",
      "input_1 (InputLayer)         (None, 512, 512, 3)       0         \n",
      "_________________________________________________________________\n",
      "conv2d_1 (Conv2D)            (None, 512, 512, 32)      2432      \n",
      "=================================================================\n",
      "Total params: 2,432\n",
      "Trainable params: 2,432\n",
      "Non-trainable params: 0\n",
      "_________________________________________________________________\n"
     ]
    }
   ],
   "source": [
    "from keras.layers import Conv2D, Input\n",
    "from keras.models import Model\n",
    "\n",
    "def _print_model():\n",
    "    \"\"\"\n",
    "    Creates a sample model and prints output shape\n",
    "    Use this to analyse convolution parameters\n",
    "    \"\"\"\n",
    "    # create input with given shape \n",
    "    x = Input(shape=(512,512,3))\n",
    "\n",
    "    # create a convolution layer\n",
    "    y = Conv2D(filters=32, \n",
    "               kernel_size=(5,5), \n",
    "               strides=1, padding=\"same\",\n",
    "               use_bias=True)(x)\n",
    "    \n",
    "    # create model \n",
    "    model = Model(inputs=x, outputs=y)\n",
    "\n",
    "    # prints our model created\n",
    "    model.summary()\n",
    "\n",
    "_print_model()"
   ]
  },
  {
   "cell_type": "code",
   "execution_count": null,
   "metadata": {
    "collapsed": true
   },
   "outputs": [],
   "source": []
  }
 ],
 "metadata": {
  "kernelspec": {
   "display_name": "Python 3",
   "language": "python",
   "name": "python3"
  },
  "language_info": {
   "codemirror_mode": {
    "name": "ipython",
    "version": 3
   },
   "file_extension": ".py",
   "mimetype": "text/x-python",
   "name": "python",
   "nbconvert_exporter": "python",
   "pygments_lexer": "ipython3",
   "version": "3.6.3"
  }
 },
 "nbformat": 4,
 "nbformat_minor": 2
}
