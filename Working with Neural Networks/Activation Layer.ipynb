{
 "cells": [
  {
   "cell_type": "code",
   "execution_count": null,
   "metadata": {
    "collapsed": true
   },
   "outputs": [],
   "source": [
    "from keras.layers import Conv2D, Input, Activation\n",
    "from keras.models import Model\n",
    "\n",
    "def print_model():\n",
    "    \"\"\"\n",
    "    Creates a sample model and prints output shape\n",
    "    Use this to analyse convolution parameters\n",
    "    \"\"\"\n",
    "    # create input with given shape \n",
    "    x = Input(shape=(512,512,3))\n",
    "\n",
    "    # create a convolution layer\n",
    "    conv = Conv2D(filters=32, \n",
    "               kernel_size=(5,5), \n",
    "               strides=1, padding=\"same\",\n",
    "               use_bias=True)(x)\n",
    "    y = Activation('relu')(conv)\n",
    "    \n",
    "    # create model \n",
    "    model = Model(inputs=x, outputs=y)\n",
    "\n",
    "    # prints our model created\n",
    "    model.summary()\n",
    "\n",
    "print_model()"
   ]
  }
 ],
 "metadata": {
  "kernelspec": {
   "display_name": "Python 3",
   "language": "python",
   "name": "python3"
  },
  "language_info": {
   "codemirror_mode": {
    "name": "ipython",
    "version": 3
   },
   "file_extension": ".py",
   "mimetype": "text/x-python",
   "name": "python",
   "nbconvert_exporter": "python",
   "pygments_lexer": "ipython3",
   "version": "3.6.3"
  }
 },
 "nbformat": 4,
 "nbformat_minor": 2
}
