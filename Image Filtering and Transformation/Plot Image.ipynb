{
 "cells": [
  {
   "cell_type": "code",
   "execution_count": null,
   "metadata": {},
   "outputs": [],
   "source": [
    "import numpy as np \n",
    "import matplotlib.pyplot as plt \n",
    "import cv2 \n",
    "\n",
    "\n",
    "#this line is used to display image inside the jupyter notebook\n",
    "%matplotlib inline \n",
    "\n",
    "def _plot_cv_img(input_image):   #private function to plot the image  \n",
    "    \"\"\"     \n",
    "    Converts an image from BGR to RGB and plots     \n",
    "    \"\"\"   \n",
    "    # change color channels order for matplotlib     \n",
    "    plt.imshow(cv2.cvtColor(input_image, cv2.COLOR_BGR2RGB))          \n",
    "\n",
    "    # For easier view, turn on axis around image     \n",
    "    plt.axis('on')\n",
    "    plt.show()\n",
    "    \n",
    "     # Remove Scale from Image\n",
    "    plt.imshow(cv2.cvtColor(input_image, cv2.COLOR_BGR2RGB))          \n",
    "\n",
    "    # For easier view, turn off axis around image     \n",
    "    plt.axis('off')\n",
    "    plt.show()\n",
    "    \n",
    "\n",
    "def main():\n",
    "    # read an image \n",
    "    img = cv2.imread('pics/monalisa.jpg')\n",
    "    \n",
    "    # plot image\n",
    "    _plot_cv_img(img)\n",
    "\n",
    "if __name__ == '__main__':\n",
    "    main()"
   ]
  },
  {
   "cell_type": "code",
   "execution_count": null,
   "metadata": {
    "collapsed": true
   },
   "outputs": [],
   "source": []
  }
 ],
 "metadata": {
  "kernelspec": {
   "display_name": "Python 3",
   "language": "python",
   "name": "python3"
  },
  "language_info": {
   "codemirror_mode": {
    "name": "ipython",
    "version": 3
   },
   "file_extension": ".py",
   "mimetype": "text/x-python",
   "name": "python",
   "nbconvert_exporter": "python",
   "pygments_lexer": "ipython3",
   "version": "3.6.3"
  }
 },
 "nbformat": 4,
 "nbformat_minor": 2
}
