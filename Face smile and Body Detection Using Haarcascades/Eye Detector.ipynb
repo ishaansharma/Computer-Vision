{
 "cells": [
  {
   "cell_type": "code",
   "execution_count": null,
   "metadata": {},
   "outputs": [],
   "source": [
    "#haarcascade_eye.xml\n",
    "\n",
    "import numpy as np\n",
    "import cv2\n",
    "\n",
    "# create cascaded classifier with pre-learned weights\n",
    "# For other objects, change the file here\n",
    "eye_cascade = cv2.CascadeClassifier('haarcascades/haarcascade_eye.xml')\n",
    "eye_cascade.load('/Users/i1337/Desktop/Computer Vision/untitled folder/haarcascades/haarcascade_eye.xml')\n",
    "\n",
    "cap = cv2.VideoCapture(0)\n",
    "\n",
    "while(True):\n",
    "    ret, frame = cap.read()\n",
    "    if not ret:\n",
    "        print(\"No frame captured\")\n",
    "    \n",
    "    frame = cv2.resize(frame, (640, 480))\n",
    "    gray = cv2.cvtColor(frame, cv2.COLOR_BGR2GRAY)\n",
    "    \n",
    "    # detect face\n",
    "    eyes = eye_cascade.detectMultiScale(gray)\n",
    "    \n",
    "    # plot results\n",
    "    for (x,y,w,h) in eyes:\n",
    "        cv2.rectangle(frame,(x,y),(x+w,y+h),(255,0,0),2)\n",
    "    \n",
    "\n",
    "    cv2.imshow('img',frame)\n",
    "    if cv2.waitKey(1) & 0xFF == ord('q'):\n",
    "        break\n",
    "\n",
    "cap.release()\n",
    "cv2.destroyAllWindows()"
   ]
  },
  {
   "cell_type": "code",
   "execution_count": null,
   "metadata": {
    "collapsed": true
   },
   "outputs": [],
   "source": []
  },
  {
   "cell_type": "code",
   "execution_count": null,
   "metadata": {
    "collapsed": true
   },
   "outputs": [],
   "source": []
  },
  {
   "cell_type": "code",
   "execution_count": null,
   "metadata": {
    "collapsed": true
   },
   "outputs": [],
   "source": []
  }
 ],
 "metadata": {
  "kernelspec": {
   "display_name": "Python 3",
   "language": "python",
   "name": "python3"
  },
  "language_info": {
   "codemirror_mode": {
    "name": "ipython",
    "version": 3
   },
   "file_extension": ".py",
   "mimetype": "text/x-python",
   "name": "python",
   "nbconvert_exporter": "python",
   "pygments_lexer": "ipython3",
   "version": "3.6.3"
  }
 },
 "nbformat": 4,
 "nbformat_minor": 2
}
